{
 "cells": [
  {
   "cell_type": "code",
   "execution_count": 1,
   "metadata": {},
   "outputs": [],
   "source": [
    "%load_ext autoreload\n",
    "%autoreload 2\n",
    "\n",
    "from BC import *\n",
    "from Net import *\n",
    "import hashlib\n",
    "import time"
   ]
  },
  {
   "cell_type": "code",
   "execution_count": 2,
   "metadata": {},
   "outputs": [
    {
     "name": "stdout",
     "output_type": "stream",
     "text": [
      "Block has been mined successfully! \n",
      "Time taken: 0.034976959228515625\n"
     ]
    }
   ],
   "source": [
    "network = Network()\n",
    "acc1 = Account()\n",
    "acc2 = Account()\n",
    "network.addAccount(acc1)\n",
    "network.addAccount(acc2)\n",
    "bc = BlockChain(network)"
   ]
  },
  {
   "cell_type": "code",
   "execution_count": 3,
   "metadata": {},
   "outputs": [
    {
     "name": "stdout",
     "output_type": "stream",
     "text": [
      "6e2f9dae170d8eb653d3f831e9e1bcc7267a9ac3c6e4b72b6205c7a9b69eafdf\n",
      "8082db998a32a1e02a7aab21b58562fe0b1a75904a0894d655ca5f08c0d5f746\n",
      "{'6e2f9dae170d8eb653d3f831e9e1bcc7267a9ac3c6e4b72b6205c7a9b69eafdf': <Net.Account object at 0x000001D36F60AB20>, '8082db998a32a1e02a7aab21b58562fe0b1a75904a0894d655ca5f08c0d5f746': <Net.Account object at 0x000001D36F60A400>}\n",
      "Block has been mined successfully! \n",
      "Time taken: 0.004995822906494141\n",
      "New block with ID:1 has been added to the blockchain!\n"
     ]
    }
   ],
   "source": [
    "print(acc1.address)\n",
    "print(acc2.address)\n",
    "print(network.accounts)\n",
    "bc.minePendingTransaction(acc1.address)"
   ]
  },
  {
   "cell_type": "code",
   "execution_count": 7,
   "metadata": {},
   "outputs": [
    {
     "name": "stdout",
     "output_type": "stream",
     "text": [
      "Tx type: mining \n",
      "From: None \n",
      "To: 6e2f9dae170d8eb653d3f831e9e1bcc7267a9ac3c6e4b72b6205c7a9b69eafdf \n",
      "Amount: 100\n",
      "200\n",
      "250\n",
      "Block has been mined successfully! \n",
      "Time taken: 0.014990091323852539\n",
      "New block with ID:4 has been added to the blockchain!\n",
      "300\n",
      "250\n"
     ]
    }
   ],
   "source": [
    "bc.printPendingTxInfo()\n",
    "print(acc1.balance)\n",
    "print(acc2.balance)\n",
    "bc.minePendingTransaction(acc1.address)\n",
    "print(acc1.balance)\n",
    "print(acc2.balance)"
   ]
  },
  {
   "cell_type": "code",
   "execution_count": 5,
   "metadata": {},
   "outputs": [],
   "source": [
    "bc.addTransaction(Transaction(acc1.address, acc2.address, 250))"
   ]
  },
  {
   "cell_type": "code",
   "execution_count": null,
   "metadata": {},
   "outputs": [],
   "source": [
    "for block in bc.chain:\n",
    "    block.getBlockInfo()\n",
    "    print(\"\\n\")\n",
    "print(bc.isChainValid())"
   ]
  }
 ],
 "metadata": {
  "kernelspec": {
   "display_name": "bc_venv",
   "language": "python",
   "name": "python3"
  },
  "language_info": {
   "codemirror_mode": {
    "name": "ipython",
    "version": 3
   },
   "file_extension": ".py",
   "mimetype": "text/x-python",
   "name": "python",
   "nbconvert_exporter": "python",
   "pygments_lexer": "ipython3",
   "version": "3.9.7"
  },
  "orig_nbformat": 4,
  "vscode": {
   "interpreter": {
    "hash": "2401cd2752f2cec4107b2d3262780f9954ec1223eab2277bb60ce0343b5517d2"
   }
  }
 },
 "nbformat": 4,
 "nbformat_minor": 2
}

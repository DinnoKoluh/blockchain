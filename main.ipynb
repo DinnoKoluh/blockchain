{
 "cells": [
  {
   "cell_type": "code",
   "execution_count": 1,
   "metadata": {},
   "outputs": [],
   "source": [
    "%load_ext autoreload\n",
    "%autoreload 2\n",
    "\n",
    "from BC import *\n",
    "import hashlib\n",
    "import time"
   ]
  },
  {
   "cell_type": "code",
   "execution_count": null,
   "metadata": {},
   "outputs": [
    {
     "name": "stdout",
     "output_type": "stream",
     "text": [
      "64\n",
      "(1, 'dinno', [1, 'a'])\n",
      "1677080632.1733732\n"
     ]
    }
   ],
   "source": [
    "to_hash = \"dinno\"\n",
    "hashed = hashlib.sha256(to_hash.encode()).hexdigest()\n",
    "print(len(hashed))\n",
    "\n",
    "a = (1, \"dinno\", [1, 'a'])\n",
    "print(str(a))\n",
    "print(time.time())"
   ]
  },
  {
   "cell_type": "code",
   "execution_count": 32,
   "metadata": {},
   "outputs": [
    {
     "name": "stdout",
     "output_type": "stream",
     "text": [
      "Block has been mined successfully! \n",
      "Time taken: 0.0179898738861084\n"
     ]
    }
   ],
   "source": [
    "bc = BlockChain()"
   ]
  },
  {
   "cell_type": "code",
   "execution_count": 35,
   "metadata": {},
   "outputs": [
    {
     "name": "stdout",
     "output_type": "stream",
     "text": [
      "Block has been mined successfully! \n",
      "Time taken: 0.020984411239624023\n",
      "Block has been mined successfully! \n",
      "Time taken: 0.05496406555175781\n"
     ]
    }
   ],
   "source": [
    "new_block1 = Block(\"New block\")\n",
    "bc.addNewBlock(new_block1)\n",
    "new_block2 = Block(\"New block 2\")\n",
    "bc.addNewBlock(new_block2)"
   ]
  },
  {
   "cell_type": "code",
   "execution_count": 36,
   "metadata": {},
   "outputs": [
    {
     "name": "stdout",
     "output_type": "stream",
     "text": [
      "Index: 0 \n",
      "Data: GENESIS BLOCK \n",
      "Timestamp: 1677089422.5706663 \n",
      "Previous Timestamp: 1677089422.5706663 \n",
      "Previous Hash: 0x000 \n",
      "Block Hash: 000341c5fb0809314896f17c2242077ab1fe693bafd48a38ff98e73f00dfe57a\n",
      "\n",
      "\n",
      "Index: 1 \n",
      "Data: New block \n",
      "Timestamp: 1677089425.7737658 \n",
      "Previous Timestamp: 1677089422.5706663 \n",
      "Previous Hash: 000341c5fb0809314896f17c2242077ab1fe693bafd48a38ff98e73f00dfe57a \n",
      "Block Hash: 000bff4de2985c6b3142ee94702d4faea37abaaa304adb0a9309a337186558de\n",
      "\n",
      "\n",
      "Index: 2 \n",
      "Data: New block 2 \n",
      "Timestamp: 1677089425.8507178 \n",
      "Previous Timestamp: 1677089425.7737658 \n",
      "Previous Hash: 000bff4de2985c6b3142ee94702d4faea37abaaa304adb0a9309a337186558de \n",
      "Block Hash: 00036899f3d0c6b104a5b69be81220995fd49beb40f4771b02a45131f437a748\n",
      "\n",
      "\n",
      "Index: 3 \n",
      "Data: New block \n",
      "Timestamp: 1677089463.0053067 \n",
      "Previous Timestamp: 1677089425.8507178 \n",
      "Previous Hash: 00036899f3d0c6b104a5b69be81220995fd49beb40f4771b02a45131f437a748 \n",
      "Block Hash: 0001264bb0fc6414f72496e3f48a7de9fa4dfb9c43a30b060f4f7930623ae667\n",
      "\n",
      "\n",
      "Index: 4 \n",
      "Data: New block 2 \n",
      "Timestamp: 1677089463.0612724 \n",
      "Previous Timestamp: 1677089463.0053067 \n",
      "Previous Hash: 0001264bb0fc6414f72496e3f48a7de9fa4dfb9c43a30b060f4f7930623ae667 \n",
      "Block Hash: 000d4fa492c8b4f092d308b79d9f46e5b88a867f28e006146fcfaba349e310ce\n",
      "\n",
      "\n",
      "True\n"
     ]
    }
   ],
   "source": [
    "for block in bc.chain:\n",
    "    block.getBlockInfo()\n",
    "    print(\"\\n\")\n",
    "print(bc.isChainValid())"
   ]
  },
  {
   "cell_type": "code",
   "execution_count": 7,
   "metadata": {},
   "outputs": [
    {
     "name": "stdout",
     "output_type": "stream",
     "text": [
      "Index: 1 \n",
      "Timestamp: 1677084285.7356226 \n",
      "Data: New block \n",
      "Previous Hash: 0e2939fe83e7d6c15e97afe511690b4b39e8ddf212f80168f4f1e86da6f28a03 \n",
      "Block Hash: c76511edcc160a4252687b96ad2df5d0c1c32cf7e59e60913455ea031799dbf2\n"
     ]
    }
   ],
   "source": [
    "new_block1.getBlockInfo()"
   ]
  },
  {
   "cell_type": "code",
   "execution_count": 17,
   "metadata": {},
   "outputs": [
    {
     "name": "stdout",
     "output_type": "stream",
     "text": [
      "0000000000\n"
     ]
    }
   ],
   "source": [
    "a = str(\"0\"*10)\n",
    "print(a)"
   ]
  }
 ],
 "metadata": {
  "kernelspec": {
   "display_name": "bc_venv",
   "language": "python",
   "name": "python3"
  },
  "language_info": {
   "codemirror_mode": {
    "name": "ipython",
    "version": 3
   },
   "file_extension": ".py",
   "mimetype": "text/x-python",
   "name": "python",
   "nbconvert_exporter": "python",
   "pygments_lexer": "ipython3",
   "version": "3.9.7"
  },
  "orig_nbformat": 4,
  "vscode": {
   "interpreter": {
    "hash": "2401cd2752f2cec4107b2d3262780f9954ec1223eab2277bb60ce0343b5517d2"
   }
  }
 },
 "nbformat": 4,
 "nbformat_minor": 2
}

{
 "cells": [
  {
   "cell_type": "code",
   "execution_count": 50,
   "metadata": {},
   "outputs": [
    {
     "name": "stdout",
     "output_type": "stream",
     "text": [
      "The autoreload extension is already loaded. To reload it, use:\n",
      "  %reload_ext autoreload\n",
      "2023-02-24 17:34:33.439886\n"
     ]
    }
   ],
   "source": [
    "%load_ext autoreload\n",
    "%autoreload 2\n",
    "\n",
    "# import os\n",
    "# os.chdir(\"../classes\")\n",
    "from BC import *\n",
    "from Net import *\n",
    "from Tx import *\n",
    "# os.chdir(\"../testing\")\n",
    "import hashlib\n",
    "import time\n",
    "import sys\n",
    "\n",
    "# from datetime import datetime\n",
    "# timestamp = time.time()\n",
    "# print(datetime.fromtimestamp(timestamp))"
   ]
  },
  {
   "cell_type": "code",
   "execution_count": 3,
   "metadata": {},
   "outputs": [
    {
     "name": "stdout",
     "output_type": "stream",
     "text": [
      "Block has been mined successfully! \n",
      "Time taken: 0.0019989013671875\n",
      "Transaction has been successfully signed!\n"
     ]
    },
    {
     "data": {
      "text/plain": [
       "True"
      ]
     },
     "execution_count": 3,
     "metadata": {},
     "output_type": "execute_result"
    }
   ],
   "source": [
    "network = Network()\n",
    "acc1 = Account()\n",
    "acc2 = Account()\n",
    "network.addAccount(acc1)\n",
    "network.addAccount(acc2)\n",
    "bc = BlockChain(network)\n",
    "tx1 = Transaction(acc1.address, acc2.address, 10) # create transaction\n",
    "tx1.signTx(acc1.key_pair) # sign tx by \"from\" account"
   ]
  },
  {
   "cell_type": "code",
   "execution_count": 5,
   "metadata": {},
   "outputs": [
    {
     "name": "stdout",
     "output_type": "stream",
     "text": [
      "894e5091ea633452cf0b13a8ab445ee1cf09dac8ab88885daf3f709a6e36c7d6\n",
      "f1243f7306ef26439fac1e56a06f1951eb88604bc4a5838afcc80612bdf120a8\n",
      "Transaction signature is valid!\n",
      "Transaction successfully added!\n",
      "Tx type: ordinary \n",
      "From: 894e5091ea633452cf0b13a8ab445ee1cf09dac8ab88885daf3f709a6e36c7d6 \n",
      "To: f1243f7306ef26439fac1e56a06f1951eb88604bc4a5838afcc80612bdf120a8 \n",
      "Amount: 10\n",
      "Tx type: ordinary \n",
      "From: 894e5091ea633452cf0b13a8ab445ee1cf09dac8ab88885daf3f709a6e36c7d6 \n",
      "To: f1243f7306ef26439fac1e56a06f1951eb88604bc4a5838afcc80612bdf120a8 \n",
      "Amount: 10\n"
     ]
    }
   ],
   "source": [
    "print(acc1.address)\n",
    "print(acc2.address)\n",
    "tx1.isTxValid()\n",
    "bc.addTransaction(tx1)\n",
    "bc.printPendingTxInfo()"
   ]
  },
  {
   "cell_type": "code",
   "execution_count": 8,
   "metadata": {},
   "outputs": [
    {
     "data": {
      "text/plain": [
       "200"
      ]
     },
     "execution_count": 8,
     "metadata": {},
     "output_type": "execute_result"
    }
   ],
   "source": [
    "acc1.increaseBalance(100)\n",
    "acc1.getBalance()"
   ]
  },
  {
   "cell_type": "code",
   "execution_count": 26,
   "metadata": {},
   "outputs": [
    {
     "name": "stdout",
     "output_type": "stream",
     "text": [
      "Tx type: mining \n",
      "From: None \n",
      "To: 894e5091ea633452cf0b13a8ab445ee1cf09dac8ab88885daf3f709a6e36c7d6 \n",
      "Amount: 100\n",
      "Tx type: ordinary \n",
      "From: 894e5091ea633452cf0b13a8ab445ee1cf09dac8ab88885daf3f709a6e36c7d6 \n",
      "To: f1243f7306ef26439fac1e56a06f1951eb88604bc4a5838afcc80612bdf120a8 \n",
      "Amount: 40\n",
      "295\n",
      "5\n",
      "Block has been mined successfully! \n",
      "Time taken: 0.015990734100341797\n",
      "New block with ID:3 has been added to the blockchain!\n",
      "Transaction signature is valid!\n",
      "Transaction successfully added! \n",
      "Tx type mining\n",
      "355\n",
      "45\n"
     ]
    },
    {
     "data": {
      "text/plain": [
       "[<Tx.Transaction at 0x179d8cabd90>, <Tx.Transaction at 0x179d8d9fe80>]"
      ]
     },
     "execution_count": 26,
     "metadata": {},
     "output_type": "execute_result"
    }
   ],
   "source": [
    "bc.printPendingTxInfo()\n",
    "print(acc1.getBalance())\n",
    "print(acc2.getBalance())\n",
    "bc.minePendingTransaction(acc2.address)\n",
    "print(acc1.getBalance())\n",
    "print(acc2.getBalance())\n",
    "bc.chain[2].data"
   ]
  },
  {
   "cell_type": "code",
   "execution_count": 28,
   "metadata": {},
   "outputs": [
    {
     "name": "stdout",
     "output_type": "stream",
     "text": [
      "Transaction successfully added! \n",
      "Tx type ordinary\n"
     ]
    },
    {
     "data": {
      "text/plain": [
       "True"
      ]
     },
     "execution_count": 28,
     "metadata": {},
     "output_type": "execute_result"
    }
   ],
   "source": [
    "bc.addTransaction(Transaction(acc1.address, acc2.address, 40))"
   ]
  },
  {
   "cell_type": "code",
   "execution_count": 41,
   "metadata": {},
   "outputs": [
    {
     "name": "stdout",
     "output_type": "stream",
     "text": [
      "Tx type: mining \n",
      "From: None \n",
      "To: f1243f7306ef26439fac1e56a06f1951eb88604bc4a5838afcc80612bdf120a8 \n",
      "Amount: 100\n",
      "Tx type: ordinary \n",
      "From: 894e5091ea633452cf0b13a8ab445ee1cf09dac8ab88885daf3f709a6e36c7d6 \n",
      "To: f1243f7306ef26439fac1e56a06f1951eb88604bc4a5838afcc80612bdf120a8 \n",
      "Amount: 40\n",
      "Transaction has been successfully signed!\n",
      "Transaction signature is valid!\n"
     ]
    },
    {
     "data": {
      "text/plain": [
       "True"
      ]
     },
     "execution_count": 41,
     "metadata": {},
     "output_type": "execute_result"
    }
   ],
   "source": [
    "bc.printPendingTxInfo()\n",
    "bc.pending_txs[1].signTx(acc1.getKeys())\n",
    "bc.pending_txs[1].isTxValid()"
   ]
  },
  {
   "cell_type": "code",
   "execution_count": 49,
   "metadata": {},
   "outputs": [
    {
     "name": "stdout",
     "output_type": "stream",
     "text": [
      "Tx type: ordinary \n",
      "From: 894e5091ea633452cf0b13a8ab445ee1cf09dac8ab88885daf3f709a6e36c7d6 \n",
      "To: f1243f7306ef26439fac1e56a06f1951eb88604bc4a5838afcc80612bdf120a8 \n",
      "Amount: 40\n",
      "Transaction signature is valid!\n"
     ]
    },
    {
     "data": {
      "text/plain": [
       "True"
      ]
     },
     "execution_count": 49,
     "metadata": {},
     "output_type": "execute_result"
    }
   ],
   "source": [
    "bc.pending_txs[1].printTxInfo()\n",
    "bc.pending_txs[1].isTxValid()"
   ]
  },
  {
   "cell_type": "code",
   "execution_count": null,
   "metadata": {},
   "outputs": [],
   "source": [
    "for block in bc.chain:\n",
    "    block.getBlockInfo()\n",
    "    print(\"\\n\")\n",
    "print(bc.isChainValid())"
   ]
  }
 ],
 "metadata": {
  "kernelspec": {
   "display_name": "bc_venv",
   "language": "python",
   "name": "python3"
  },
  "language_info": {
   "codemirror_mode": {
    "name": "ipython",
    "version": 3
   },
   "file_extension": ".py",
   "mimetype": "text/x-python",
   "name": "python",
   "nbconvert_exporter": "python",
   "pygments_lexer": "ipython3",
   "version": "3.9.7"
  },
  "orig_nbformat": 4,
  "vscode": {
   "interpreter": {
    "hash": "2401cd2752f2cec4107b2d3262780f9954ec1223eab2277bb60ce0343b5517d2"
   }
  }
 },
 "nbformat": 4,
 "nbformat_minor": 2
}
